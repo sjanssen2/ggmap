{
 "cells": [
  {
   "cell_type": "markdown",
   "id": "d9508260",
   "metadata": {},
   "source": [
    "This notebook is a template for a default 16s V4 marker gene analysis. I assume data arrive in terms for raw Illumina files (a complex directory structure of \\*.bcl files) and metadata describing the samples as excel file or another type of spreadsheet.\n",
    "\n",
    "Should the metadata not yet exist, I recommend 1) use https://qiita.ucsd.edu/iframe/?iframe=qiimp to produce an according excel template and 2) do **not** start any analysis until you know your samples. Any efforts without these data is a waste of time!"
   ]
  },
  {
   "cell_type": "code",
   "execution_count": null,
   "id": "71243014",
   "metadata": {},
   "outputs": [],
   "source": [
    "%matplotlib  inline\n",
    "%load_ext autoreload\n",
    "%autoreload 2\n",
    "\n",
    "from ggmap.workflow import *\n",
    "\n",
    "# use the following two information to create according github repo and project directory on lummerland\n",
    "PROJECT_PI = 'YOURNAME'\n",
    "PROJECT_NAME = 'YOURPROJECTNAME'"
   ]
  },
  {
   "cell_type": "code",
   "execution_count": null,
   "id": "4fd655c3",
   "metadata": {},
   "outputs": [],
   "source": [
    "# this object will hold many of the preprocessing data\n",
    "# be careful to re-set it as you will have to re-do multiple steps to recreate these infos\n",
    "prj_data = dict()"
   ]
  },
  {
   "cell_type": "markdown",
   "id": "f910947f",
   "metadata": {},
   "source": [
    "## Load metadata"
   ]
  },
  {
   "cell_type": "code",
   "execution_count": null,
   "id": "ac9147b2",
   "metadata": {},
   "outputs": [],
   "source": [
    "prj_data['metadata'] = pd.read_csv('PATH TO YOUR FILE', sep=\"\\t\", dtype=str, na_values=['not applicable'], index_col=0)\n",
    "prj_data['metadata']"
   ]
  },
  {
   "cell_type": "markdown",
   "id": "e3f42587",
   "metadata": {},
   "source": [
    "# Process data\n",
    "## Initiate new project"
   ]
  },
  {
   "cell_type": "code",
   "execution_count": null,
   "id": "7b520e9c",
   "metadata": {},
   "outputs": [],
   "source": [
    "prj_data = init_project(pi=PROJECT_PI, name=PROJECT_NAME, prj_data=prj_data, force=False)"
   ]
  },
  {
   "cell_type": "markdown",
   "id": "9ee6ebdc",
   "metadata": {},
   "source": [
    "## Deposit raw data\n",
    "After calling the `init_project()` function above, you should start moving raw data into newly created directory structure, i.e.\n",
    "  - raw Illumina data\n",
    "  - Illumina demultiplexing sheet"
   ]
  },
  {
   "cell_type": "markdown",
   "id": "7f0cea74",
   "metadata": {},
   "source": [
    "## BaseCalling + Demulitplex"
   ]
  },
  {
   "cell_type": "code",
   "execution_count": null,
   "id": "04f1df09",
   "metadata": {},
   "outputs": [],
   "source": [
    "prj_data = project_demux(\n",
    "    'PATH TO YOUR ILLUMINA RAW DATA', \n",
    "    'PATH TO YOUR DEMUX-SHEET IN CSV FORMAT', \n",
    "    prj_data)"
   ]
  },
  {
   "cell_type": "markdown",
   "id": "e0bbce5a",
   "metadata": {},
   "source": [
    "## Trim primers"
   ]
  },
  {
   "cell_type": "code",
   "execution_count": null,
   "id": "03172501",
   "metadata": {},
   "outputs": [],
   "source": [
    "prj_data = project_trimprimers(\n",
    "    \"GTGCCAGCMGCCGCGGTAA\", \n",
    "    \"GGACTACHVGGGTWTCTAAT\", prj_data)"
   ]
  },
  {
   "cell_type": "markdown",
   "id": "8cfbce33",
   "metadata": {},
   "source": [
    "## Deblur"
   ]
  },
  {
   "cell_type": "code",
   "execution_count": null,
   "id": "7ca99083",
   "metadata": {},
   "outputs": [],
   "source": [
    "prj_data = project_deblur(prj_data)"
   ]
  },
  {
   "cell_type": "markdown",
   "id": "c9e0c2df",
   "metadata": {},
   "source": [
    "## SEPP"
   ]
  },
  {
   "cell_type": "code",
   "execution_count": null,
   "id": "141aeb2e",
   "metadata": {},
   "outputs": [],
   "source": [
    "prj_data = project_sepp(prj_data)"
   ]
  },
  {
   "cell_type": "markdown",
   "id": "0e681d23",
   "metadata": {},
   "source": [
    "before starting big compute, double check sources of metadata and feature table. It is not unlikely that you partially use data from Qiita and mix with local metadata that lack qiita-study-id prefix like `14078.`"
   ]
  },
  {
   "cell_type": "code",
   "execution_count": null,
   "id": "0574bef7",
   "metadata": {},
   "outputs": [],
   "source": [
    "qiita_metadata = any(map(lambda x: 'qiita' in x.lower(), prj_data['metadata'].columns)) and all(map(lambda x: re.match('^\\d+\\.', x) is not None, prj_data['metadata'].index))\n",
    "qiita_counts = all(map(lambda x: re.match('^\\d+\\.', x) is not None, biom2pandas(prj_data['paths']['deblur_table']).columns))\n",
    "if (qiita_metadata != qiita_counts) and (len(set(qiita_metadata.index) & set(biom2pandas(prj_data['paths']['deblur_table']).columns))) <= 0:\n",
    "    raise ValueError(\"Please double check that both, metadata and feature table stem from Qiita or other sources. It looks like sample indices do not match!\")"
   ]
  },
  {
   "cell_type": "markdown",
   "id": "1650f3dc",
   "metadata": {},
   "source": [
    "## Rarefaction + Diversity + Emperor\n",
    "\n",
    "You have to run the below function at least twice: \n",
    " - First, to get rarefaction curves, which you will use to determine a rarefaction depth for samples to compute diversity values\n",
    " - Second, alpha- beta- and emperor computation need ONE specific `rarefaction_depth` value, which you have determined in step 1"
   ]
  },
  {
   "cell_type": "code",
   "execution_count": null,
   "id": "a761e8a2",
   "metadata": {},
   "outputs": [],
   "source": [
    "idx_control_samples = set(prj_data['metadata'][prj_data['metadata']['sample_type'] == 'control'].index)\n",
    "res_all = process_study(\n",
    "    metadata=prj_data['metadata'],\n",
    "    control_samples=idx_control_samples,\n",
    "    fp_deblur_biom=prj_data['paths']['deblur_table'],\n",
    "    fp_insertiontree=prj_data['paths']['insertion_tree'],\n",
    "    rarefaction_depth=7000,\n",
    "    fp_taxonomy_trained_classifier='/homes/sjanssen/MicrobiomeAnalyses/References/Q2-Naive_Bayes_classifiers/gg-13-8-99-515-806-nb-classifier_2021.4.qza',\n",
    "    tree_insert=prj_data['insertion_tree'],\n",
    "    is_v4_region=True,\n",
    "    emperor_fp=prj_data['paths']['Generated/Emperor'],\n",
    "    emperor_infix='_deblur_',\n",
    "    dry=False,\n",
    "    use_grid=True,\n",
    "    fix_zero_len_branches=False, # since this has already been corrected via the project_sepp call\n",
    ")"
   ]
  },
  {
   "cell_type": "markdown",
   "id": "8ad8fe60",
   "metadata": {},
   "source": [
    "### stratify rarefaction curves by metadata"
   ]
  },
  {
   "cell_type": "code",
   "execution_count": null,
   "id": "bf5cb30f",
   "metadata": {},
   "outputs": [],
   "source": [
    "_ = rarefaction_curves(\n",
    "    res_all['counts_plantsremoved'], \n",
    "    reference_tree=prj_data['paths']['insertion_tree'], \n",
    "    control_sample_names=idx_control_samples, \n",
    "    fix_zero_len_branches=False, # since this has already been corrected via the project_sepp call\n",
    "    sample_grouping=prj_data['metadata'][\"diseased\"], \n",
    "    dry=False)"
   ]
  },
  {
   "cell_type": "markdown",
   "id": "90302ffa",
   "metadata": {},
   "source": [
    "# Explore Data"
   ]
  },
  {
   "cell_type": "markdown",
   "id": "732b74dc",
   "metadata": {},
   "source": [
    "## Taxonomy Barplot"
   ]
  },
  {
   "cell_type": "code",
   "execution_count": null,
   "id": "a00fe091",
   "metadata": {},
   "outputs": [],
   "source": [
    "p = plotTaxonomy(res_all['rarefaction']['results'], prj_data['metadata'], file_taxonomy=res_all['taxonomy']['RDP']['results']['Taxon'],\n",
    "                 group_l1='sample_type', rank='Family',\n",
    "                 print_sample_labels=True)\n",
    "p[0].set_size_inches((15, 5))"
   ]
  },
  {
   "cell_type": "markdown",
   "id": "729a2aa8",
   "metadata": {},
   "source": [
    "## Correlation: within metadata\n",
    "Without knowing too much about the metadata, let is check if the different columns correlate with each other. If so, we have redundant information and it might be worth ignoring one of the columns in downstream analysis.\n",
    "\n",
    "We need to classify metadata columns into four categories to optimally harvest statistical power:\n",
    "  - dates, e.g. `collection_timestamp`: `2021-12-06 00:00:00`\n",
    "  - interval data, e.g. `host_height` in cm: `186`\n",
    "  - ordinal data, e.g. `shower_frequency`: `once per week` < `every day` < `multiple times per day`\n",
    "  - categorial data, e.g. `genotype`: `balb`, `black6`"
   ]
  },
  {
   "cell_type": "code",
   "execution_count": null,
   "id": "870b4ecd",
   "metadata": {},
   "outputs": [],
   "source": [
    "cols_ignore = set()\n",
    "for c in prj_data['metadata'].columns:\n",
    "    if prj_data['metadata'][c].dropna().unique().shape[0] == 1:\n",
    "        # ignore column, since it contains only ONE value for all samples\n",
    "        cols_ignore.add(c)\n",
    "    if prj_data['metadata'][c].dropna().unique().shape[0] == prj_data['metadata'][c].dropna().shape[0]:\n",
    "        # ignore column, since every sample comes with another value\n",
    "        cols_ignore.add(c)\n",
    "\n",
    "cols_date = { # a dictionary where key = column name and value = format string to correctly parse date information\n",
    "    # 'collection_timestamp': '%Y-%m-%d %h:%m:%s'\n",
    "}\n",
    "cols_interval = set([\n",
    "    # host_height,\n",
    "])\n",
    "cols_ordinal = { # note this is a dictionary with keys = column names and values = lists of potential strings in the metadata ORDERED in the list\n",
    "    # 'shower_frequency': ['once per week', 'every day', 'multiple times per day'],\n",
    "}\n",
    "cols_categorial = set([\n",
    "    # 'genotype',\n",
    "    'diseased', 'sample_type'\n",
    "])"
   ]
  },
  {
   "cell_type": "code",
   "execution_count": null,
   "id": "5d759634",
   "metadata": {},
   "outputs": [],
   "source": [
    "# use this output to decide how to classify remaining metadata columns\n",
    "# when done, this function should not output anything\n",
    "for c in prj_data['metadata'].columns:\n",
    "    if c in cols_ordinal.keys() or c in cols_ignore or c in cols_categorial or c in cols_date.keys() or c in cols_interval:\n",
    "        continue\n",
    "    print(c, prj_data['metadata'][c].value_counts(dropna=False))\n",
    "    print(\"--------\")"
   ]
  },
  {
   "cell_type": "code",
   "execution_count": null,
   "id": "f10ff6d4",
   "metadata": {},
   "outputs": [],
   "source": [
    "res_corrmeta = correlate_metadata(prj_data['metadata'][list(set(prj_data['metadata'].columns) - set(cols_ignore))], categorials=list(cols_categorial), ordinals=cols_ordinal, dates=cols_date, intervals=list(cols_interval))\n",
    "display(res_corrmeta[1])"
   ]
  },
  {
   "cell_type": "markdown",
   "id": "80b51bb7",
   "metadata": {},
   "source": [
    "## Correlation: metadata with microbiome\n",
    "We are throwing a whole arsenal of statistical tests on multiple metrics to the data to find something that looks significant. Go through the resulting table of p-values and look for significant ones that you can further investigate"
   ]
  },
  {
   "cell_type": "code",
   "execution_count": null,
   "id": "3174a524",
   "metadata": {},
   "outputs": [],
   "source": [
    "corr_diversity = correlation_diversity_metacolumns(\n",
    "    prj_data['metadata'][sorted(list(set(cols_categorial) | set(cols_date.keys()) | set(cols_ordinal.keys()) | set(cols_interval)))].fillna('NaN'),\n",
    "    list(sorted(set(cols_categorial) | set(cols_ordinal.keys()))),\n",
    "    res_all['alpha_diversity']['results'], \n",
    "    res_all['beta_diversity']['results'],\n",
    "    dry=False, wait=False, use_grid=True, dirty=True)"
   ]
  },
  {
   "cell_type": "code",
   "execution_count": null,
   "id": "76e0c009",
   "metadata": {},
   "outputs": [],
   "source": [
    "pd.pivot_table(data=corr_diversity['results'], columns='column', index=['div','type','metric','test'], values='p-value').fillna(\"\")"
   ]
  },
  {
   "cell_type": "markdown",
   "id": "a0311afd",
   "metadata": {},
   "source": [
    "collapse above table to smallest p-value per column."
   ]
  },
  {
   "cell_type": "code",
   "execution_count": null,
   "id": "e428f7d2",
   "metadata": {},
   "outputs": [],
   "source": [
    "sig_cols = {k for k,v in corr_diversity['results'].groupby('column')['p-value'].min().iteritems() \n",
    "            if v < 0.05 \n",
    "            if k != '__fake_qiime2_numcol'}\n",
    "display(corr_diversity['results'][corr_diversity['results']['column'].isin(sig_cols)].groupby('column')['p-value'].min())"
   ]
  },
  {
   "cell_type": "code",
   "execution_count": null,
   "id": "4cb179b4",
   "metadata": {},
   "outputs": [],
   "source": [
    "# subset columns to those that significantly correlate with microbiome data\n",
    "# you should manually reduce the number of columns you want to investigate, \n",
    "# since every addition of a column costs a lot of statistical power and a too complex model might find nothing at all!\n",
    "model_cols_date = {k: v for k,v in cols_date.items() if k in sig_cols}\n",
    "model_cols_interval = {c for c in cols_interval if c in sig_cols}\n",
    "model_cols_ordinal = {k: v for k,v in cols_ordinal.items() if k in sig_cols}\n",
    "model_cols_categorial = {c for c in cols_categorial if c in sig_cols}"
   ]
  },
  {
   "cell_type": "code",
   "execution_count": null,
   "id": "f8dfaa53",
   "metadata": {},
   "outputs": [],
   "source": [
    "sns.set_style(\"whitegrid\")\n",
    "usegrid = True\n",
    "\n",
    "max_rows = max(len(res_all['alpha_diversity']['results'].keys()), len(res_all['beta_diversity']['results'].keys()))\n",
    "fig, axes = plt.subplots(max_rows, 2, figsize=(5*2, 5*max_rows))\n",
    "for i, metric in enumerate(res_all['alpha_diversity']['results'].keys()):\n",
    "    redundancy_analysis_alpha(prj_data['metadata'][sorted(list(set(model_cols_categorial) | set(model_cols_date.keys()) | set(model_cols_ordinal.keys()) | set(model_cols_interval)))],\n",
    "                              res_all['alpha_diversity']['results'][metric],\n",
    "                              categorials=list(model_cols_categorial), intervals=list(model_cols_interval), dates=model_cols_date, ordinals=model_cols_ordinal,\n",
    "                              ax=axes[i][0], title='%s' % metric,\n",
    "                              dry=False, wait=False, use_grid=usegrid)\n",
    "for i, metric in enumerate(res_all['beta_diversity']['results'].keys()):\n",
    "    redundancy_analysis_beta(prj_data['metadata'][sorted(list(set(model_cols_categorial) | set(model_cols_date.keys()) | set(model_cols_ordinal.keys()) | set(model_cols_interval)))],\n",
    "                             res_all['beta_diversity']['results'][metric], metric,\n",
    "                             categorials=list(model_cols_categorial), intervals=list(model_cols_interval), dates=model_cols_date, ordinals=model_cols_ordinal,\n",
    "                             ax=axes[i][1], title='%s' % metric,\n",
    "                             dry=False, wait=False, use_grid=usegrid)"
   ]
  }
 ],
 "metadata": {
  "kernelspec": {
   "display_name": "ggmap",
   "language": "python",
   "name": "ggmap"
  },
  "language_info": {
   "codemirror_mode": {
    "name": "ipython",
    "version": 3
   },
   "file_extension": ".py",
   "mimetype": "text/x-python",
   "name": "python",
   "nbconvert_exporter": "python",
   "pygments_lexer": "ipython3",
   "version": "3.10.9"
  },
  "toc": {
   "base_numbering": 1,
   "nav_menu": {},
   "number_sections": true,
   "sideBar": true,
   "skip_h1_title": false,
   "title_cell": "Table of Contents",
   "title_sidebar": "Contents",
   "toc_cell": false,
   "toc_position": {},
   "toc_section_display": true,
   "toc_window_display": true
  }
 },
 "nbformat": 4,
 "nbformat_minor": 5
}
